{
 "cells": [
  {
   "cell_type": "markdown",
   "metadata": {},
   "source": [
    "1.先遍历所有activity，并给每个activity设定3-5个attributes\n",
    "2.再遍历每个activity的user，并给每个user分配其中1-2个attributes"
   ]
  },
  {
   "cell_type": "code",
   "execution_count": 5,
   "metadata": {
    "collapsed": true
   },
   "outputs": [],
   "source": [
    "import csv, random\n",
    "with open('running-example.csv', 'r') as f:\n",
    "    f_csv = csv.reader(f)\n",
    "    headers = next(f_csv)\n",
    "    # convert list to dict\n",
    "    elg = [dict(zip(headers[0].split(';'), row[0].split(';'))) for row in f_csv]\n",
    "\n",
    "    # all kinds of Activity： 所有activity的列表\n",
    "    all_activity = list(set([elg[i]['Activity'] for i in range(0,len(elg))]))\n",
    "    ####################\n",
    "    \n",
    "    for j in range(1,4): # how many attributes do you wang to add?\n",
    "        # activity_attributes_dict： 给activity赋值random attributes\n",
    "        act_attr_dic = dict(zip(all_activity,[random.sample(range(0,30),5) for i in range(0,len(all_activity))]))\n",
    "\n",
    "        # attributes~resource: 不同attributes对应的resource列表\n",
    "        for y in range(len(all_activity)):\n",
    "            res_list = list(set([elg[x]['Resource'] for x in range(0,len(elg)) if elg[x]['Activity'] == all_activity[y]]))\n",
    "\n",
    "            # choose 2 random activities from act_attr_dic: 从activity的attr中随机抽取2个attr\n",
    "            dicc = dict(zip(res_list,[random.sample(act_attr_dic[all_activity[0]],2) for i in range(0,len(res_list))]))\n",
    "\n",
    "            # add 'Attribute_?' to dict: 把'Attribute_? = attr'加入dict中\n",
    "            for i in range(0,len(elg)):\n",
    "                if elg[i]['Activity'] == all_activity[y]:\n",
    "                    elg[i]['Attribute_'+str(j)] = dicc[elg[i]['Resource']]\n",
    "                    #elg[i]['Attribute_'+str(j)] = ','.join(dicc[elg[i]['Resource']])\n",
    "    #print(elg)"
   ]
  },
  {
   "cell_type": "code",
   "execution_count": 40,
   "metadata": {
    "collapsed": true
   },
   "outputs": [],
   "source": [
    "# 存csv文件里\n",
    "h = headers[0].split(';')\n",
    "for j in range(1,4):\n",
    "    h.append('Attribute_'+str(j))\n",
    "with open('data.csv','w') as f:\n",
    "    f_csv = csv.DictWriter(f, h)\n",
    "    f_csv.writeheader()\n",
    "    f_csv.writerows(elg)"
   ]
  },
  {
   "cell_type": "code",
   "execution_count": 39,
   "metadata": {
    "collapsed": true
   },
   "outputs": [],
   "source": [
    "#elg"
   ]
  },
  {
   "cell_type": "code",
   "execution_count": 3,
   "metadata": {
    "collapsed": true
   },
   "outputs": [],
   "source": [
    "import csv, random\n",
    "with open('running-example.csv', 'r') as f:\n",
    "    f_csv = csv.reader(f)\n",
    "    headers = next(f_csv)\n",
    "    # convert list to dict\n",
    "    elg = [dict(zip(headers[0].split(';'), row[0].split(';'))) for row in f_csv]\n",
    "\n",
    "    # all kinds of Activity： 所有activity的列表\n",
    "    all_activity = list(set([elg[i]['Activity'] for i in range(0,len(elg))]))\n",
    "    # activity_attributes_dict： 给activity赋值random attributes\n",
    "    act_attr_dic = dict(zip(all_activity,[random.sample(range(0,30),5) for i in range(0,len(all_activity))]))\n",
    "\n",
    "    # 不同attributes对应的resource列表\n",
    "    for y in range(len(all_activity)):\n",
    "        res_list = list(set([elg[x]['Resource'] for x in range(0,len(elg)) if elg[x]['Activity'] == all_activity[y]]))\n",
    "\n",
    "        # 从activity的attr中随机抽取2个attr   \n",
    "        dicc = dict(zip(res_list,[random.sample(act_attr_dic[all_activity[0]],2) for i in range(0,len(res_list))]))\n",
    "\n",
    "        # 把'Attribute_1 = attr'加入dict中\n",
    "        for i in range(0,len(elg)):\n",
    "            if elg[i]['Activity'] == all_activity[y]:\n",
    "                elg[i]['Attribute_1'] = dicc[elg[i]['Resource']]\n",
    "    #print(elg)"
   ]
  }
 ],
 "metadata": {
  "kernelspec": {
   "display_name": "Python 3",
   "language": "python",
   "name": "python3"
  },
  "language_info": {
   "codemirror_mode": {
    "name": "ipython",
    "version": 3
   },
   "file_extension": ".py",
   "mimetype": "text/x-python",
   "name": "python",
   "nbconvert_exporter": "python",
   "pygments_lexer": "ipython3",
   "version": "3.6.0"
  }
 },
 "nbformat": 4,
 "nbformat_minor": 2
}
